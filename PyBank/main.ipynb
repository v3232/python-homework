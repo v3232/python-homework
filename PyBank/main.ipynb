{
 "cells": [
  {
   "cell_type": "code",
   "execution_count": 1,
   "id": "396ee4a3-1c13-4924-b898-3a555351a68e",
   "metadata": {},
   "outputs": [],
   "source": [
    "import csv\n",
    "import os\n",
    "\n",
    "# obtaining the path to bugget_data.csv\n",
    "current_dir = os.getcwd()\n",
    "path_budget_data = os.path.join(current_dir, \"budget_data.csv\")\n",
    "\n",
    "# Function to read the file budget_data.csv\n",
    "\n",
    "def read_csv_file(location):\n",
    "    data = []\n",
    "    with open(location, 'r') as file:\n",
    "        reader = csv.DictReader(file)\n",
    "        for row in reader:\n",
    "            data.append(row)\n",
    "        return data\n",
    "\n"
   ]
  },
  {
   "cell_type": "code",
   "execution_count": 2,
   "id": "a9ca9e33-f085-4dd2-99eb-5231e6249733",
   "metadata": {},
   "outputs": [],
   "source": [
    "# Function to obtain the list of months from the csv file.\n",
    "\n",
    "def months_List(path):\n",
    "    data = read_csv_file(path)\n",
    "    months= []\n",
    "    for i in range(len(data)):\n",
    "        month = data[i]['Date']\n",
    "        months.append(month)\n",
    "    return months\n",
    "\n"
   ]
  },
  {
   "cell_type": "code",
   "execution_count": 3,
   "id": "32158765-2ec4-407e-bdcb-e16f81ee18f8",
   "metadata": {},
   "outputs": [],
   "source": [
    "# Function to create a list of 'Profit/losses' in integer format from the csv file. \n",
    "\n",
    "def PL_numbers(path):\n",
    "    data = read_csv_file(path)\n",
    "    list = []\n",
    "        \n",
    "    for term in data:\n",
    "        Profit_Losses = term['Profit/Losses']\n",
    "        P_L_numbers = int(Profit_Losses)\n",
    "        list.append(P_L_numbers)\n",
    "    return list\n",
    "\n"
   ]
  },
  {
   "cell_type": "markdown",
   "id": "76e190a6-5384-42cf-87ef-e084c14cbc6b",
   "metadata": {},
   "source": [
    "## The total number of months included in the dataset."
   ]
  },
  {
   "cell_type": "code",
   "execution_count": 4,
   "id": "71e72400-ed05-4280-8759-4f43f02f0d9e",
   "metadata": {},
   "outputs": [],
   "source": [
    "\n",
    "def months(path):\n",
    "    data = read_csv_file(path) # obtain data in the file in a list of dicitonaries format.\n",
    "    months = len(data)  # since number of elements in the list of dicitonaries = number of months\n",
    "    print(f\"Total Months: {months}\")\n"
   ]
  },
  {
   "cell_type": "markdown",
   "id": "fab25858-fbe7-4bac-8143-d9a7b3625750",
   "metadata": {},
   "source": [
    "## The net total amount of Profit/Losses over the entire period."
   ]
  },
  {
   "cell_type": "code",
   "execution_count": 5,
   "id": "54967161-1f72-4aae-9aac-7739d27ebb27",
   "metadata": {},
   "outputs": [],
   "source": [
    "\n",
    "def total_PL(path):\n",
    "    PL_number_list = PL_numbers(path)\n",
    "    \n",
    "    sum(PL_number_list)  # function to add all the numbers in the Profit/losses column of the csv file which is listed in the integer format using the function PL_numbers(path).\n",
    "    \n",
    "    print(f\"Total: {sum(PL_number_list)}\")\n",
    "\n"
   ]
  },
  {
   "cell_type": "markdown",
   "id": "5bd89443-c053-4bb1-84b0-4a5f907a64ef",
   "metadata": {},
   "source": [
    "## The average of the changes in Profit/Losses over the entire period."
   ]
  },
  {
   "cell_type": "code",
   "execution_count": 6,
   "id": "7f21c699-7186-4bab-8392-cd720f5e8521",
   "metadata": {},
   "outputs": [],
   "source": [
    "# Funciton to obtain the list of differences between the consecutive Profit/Losses\n",
    "def differences(path):\n",
    "    diff_list = []\n",
    "    data = read_csv_file(path)\n",
    "    PL_list_numbers = PL_numbers(path)\n",
    "    length = len(PL_list_numbers) \n",
    "    for i in range(length-1):\n",
    "       diff = PL_list_numbers[i+1] - PL_list_numbers[i]\n",
    "       diff_list.append(diff)\n",
    "    return diff_list   \n",
    "\n",
    "\n",
    "# Using the list of differences between the consecutive Profit/Losses created in the function above in this cell to obtain the average of its elements for the average changes in Profit/Losses.   \n",
    "def diff_average(path):\n",
    "    diff_list = differences(path)\n",
    "    average = sum(diff_list)/len(diff_list)\n",
    "    print(f\"Average Change: ${average: .2f}\")\n",
    "\n"
   ]
  },
  {
   "cell_type": "markdown",
   "id": "09743389-6ad5-4751-9d11-fe9979c9fcf8",
   "metadata": {},
   "source": [
    "## The greatest increase in profits (date and amount) over the entire period."
   ]
  },
  {
   "cell_type": "code",
   "execution_count": 7,
   "id": "44569428-fefe-4e26-a26e-4e9ca84150b8",
   "metadata": {},
   "outputs": [],
   "source": [
    "\n",
    "def greatest_inc(path):\n",
    "    data = data = read_csv_file(path)\n",
    "    \n",
    "    data_diff = differences(path) # Calling the funciton to obtain the list of differences between the consecutive Profit/Losses created earlier\n",
    "    largest = max(data_diff)\n",
    "\n",
    "    # adding 1 to the index of the lrgest number from the list of dufferences as it will correspond to the index of the month that had the greatest profit in the budget_data csv file.\n",
    "    month_index = data_diff.index(largest) + 1  \n",
    "   \n",
    "    largest_month = data[month_index]['Date']\n",
    "    print(f'Greatest Increase in Profits: {largest_month} (${largest})')\n",
    "     \n"
   ]
  },
  {
   "cell_type": "markdown",
   "id": "5cef64db-d972-41ed-802b-e883af3994c6",
   "metadata": {},
   "source": [
    "## The greatest decreacse in losses (date and amount) over the entire period."
   ]
  },
  {
   "cell_type": "code",
   "execution_count": 8,
   "id": "edc67924-9883-4fa4-b2b6-5daf55dac412",
   "metadata": {},
   "outputs": [],
   "source": [
    "\n",
    "def greatest_dec(path):\n",
    "    data = read_csv_file(path)\n",
    "    \n",
    "    # Calling the funciton to obtain the list of differences between the consecutive Profit/Losses created earlier\n",
    "    data_diff = differences(path)  \n",
    "    least = min(data_diff)\n",
    "\n",
    "    # adding 1 to the index of the lrgest number from the list of dufferences as it will correspond to the index of the month that had the greatest profit difference in the budget_data csv file.\n",
    "    month_index = data_diff.index(least) + 1\n",
    "\n",
    "    least_month = data[month_index]['Date']\n",
    "    print(f'Greatest Decrease in Profits: {least_month} (${least})')\n"
   ]
  },
  {
   "cell_type": "markdown",
   "id": "55a4bf0b-8c94-41a8-b7d2-1e1781386bbc",
   "metadata": {},
   "source": [
    "## Final answer"
   ]
  },
  {
   "cell_type": "code",
   "execution_count": 10,
   "id": "85a70b36-ec41-47fc-8c6d-fafca647b3ab",
   "metadata": {},
   "outputs": [
    {
     "name": "stdout",
     "output_type": "stream",
     "text": [
      "Financial Analysis \n",
      "--------------------------------------------------\n",
      "Total Months: 86\n",
      "Total: 38382578\n",
      "Average Change: $-2315.12\n",
      "Greatest Increase in Profits: Feb-2012 ($1926159)\n",
      "Greatest Decrease in Profits: Sep-2013 ($-2196167)\n"
     ]
    }
   ],
   "source": [
    "\n",
    "print(\"Financial Analysis \\n\" + \"-\"*50)\n",
    "months(path_budget_data)\n",
    "total_PL(path_budget_data)\n",
    "diff_average(path_budget_data)\n",
    "greatest_inc(path_budget_data)\n",
    "greatest_dec(path_budget_data)\n"
   ]
  }
 ],
 "metadata": {
  "kernelspec": {
   "display_name": "Python 3 (ipykernel)",
   "language": "python",
   "name": "python3"
  },
  "language_info": {
   "codemirror_mode": {
    "name": "ipython",
    "version": 3
   },
   "file_extension": ".py",
   "mimetype": "text/x-python",
   "name": "python",
   "nbconvert_exporter": "python",
   "pygments_lexer": "ipython3",
   "version": "3.10.11"
  }
 },
 "nbformat": 4,
 "nbformat_minor": 5
}
