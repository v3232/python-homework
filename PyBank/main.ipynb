{
 "cells": [
  {
   "cell_type": "code",
   "execution_count": 27,
   "id": "396ee4a3-1c13-4924-b898-3a555351a68e",
   "metadata": {},
   "outputs": [],
   "source": [
    "# import of csv file to read the document and os for opreations on file path.\n",
    "\n",
    "import csv\n",
    "import os\n",
    "\n",
    "# obtaining the path to bugget_data.csv\n",
    "current_dir = os.getcwd()\n",
    "path_budget_data = os.path.join(current_dir, \"budget_data.csv\")\n",
    "\n",
    "# Function to read the file budget_data.csv\n",
    "\n",
    "def read_csv_file(location):\n",
    "    data = []\n",
    "    with open(location, 'r') as file:\n",
    "        reader = csv.DictReader(file)\n",
    "        for row in reader:\n",
    "            data.append(row)\n",
    "        return data\n",
    "\n"
   ]
  },
  {
   "cell_type": "code",
   "execution_count": 28,
   "id": "a9ca9e33-f085-4dd2-99eb-5231e6249733",
   "metadata": {},
   "outputs": [],
   "source": [
    "# Function to obtain the list of months from the csv file.\n",
    "\n",
    "def months_List(path):\n",
    "    data = read_csv_file(path)\n",
    "    months= []\n",
    "    for i in range(len(data)):\n",
    "        month = data[i]['Date']\n",
    "        months.append(month)\n",
    "    return months\n",
    "\n"
   ]
  },
  {
   "cell_type": "code",
   "execution_count": 29,
   "id": "32158765-2ec4-407e-bdcb-e16f81ee18f8",
   "metadata": {},
   "outputs": [],
   "source": [
    "# Function to create a list of 'Profit/losses' in integer format from the csv file. \n",
    "\n",
    "def pl_numbers(path):\n",
    "    data = read_csv_file(path)\n",
    "    list = []\n",
    "        \n",
    "    for term in data:\n",
    "        profit_losses = term['Profit/Losses']\n",
    "        p_l_numbers = int(profit_losses)\n",
    "        list.append(p_l_numbers)\n",
    "    return list\n",
    "\n"
   ]
  },
  {
   "cell_type": "markdown",
   "id": "76e190a6-5384-42cf-87ef-e084c14cbc6b",
   "metadata": {},
   "source": [
    "## The total number of months included in the dataset."
   ]
  },
  {
   "cell_type": "code",
   "execution_count": 30,
   "id": "71e72400-ed05-4280-8759-4f43f02f0d9e",
   "metadata": {},
   "outputs": [],
   "source": [
    "\n",
    "def months(path):\n",
    "    data = read_csv_file(path)\n",
    "    \n",
    "    months = len(data)  # since number of elements in the list of dicitonaries = number of months\n",
    "    \n",
    "    print(f\"Total Months: {months}\")\n"
   ]
  },
  {
   "cell_type": "markdown",
   "id": "fab25858-fbe7-4bac-8143-d9a7b3625750",
   "metadata": {},
   "source": [
    "## The net total amount of Profit/Losses over the entire period."
   ]
  },
  {
   "cell_type": "code",
   "execution_count": 31,
   "id": "54967161-1f72-4aae-9aac-7739d27ebb27",
   "metadata": {},
   "outputs": [],
   "source": [
    "\n",
    "def total_pl(path):\n",
    "    pl_number_list = pl_numbers(path)\n",
    "    \n",
    "    sum(pl_number_list)  # to add all the numbers in the Profit/losses column of the csv file now listed as pl_number_list.\n",
    "    \n",
    "    print(f\"Total: {sum(pl_number_list)}\")\n",
    "\n"
   ]
  },
  {
   "cell_type": "markdown",
   "id": "5bd89443-c053-4bb1-84b0-4a5f907a64ef",
   "metadata": {},
   "source": [
    "## The average of the changes in Profit/Losses over the entire period."
   ]
  },
  {
   "cell_type": "code",
   "execution_count": 32,
   "id": "7f21c699-7186-4bab-8392-cd720f5e8521",
   "metadata": {},
   "outputs": [],
   "source": [
    "# Funciton to obtain the list of differences between the consecutive Profit/Losses\n",
    "\n",
    "def differences(path):\n",
    "    diff_list = []\n",
    "    data = read_csv_file(path)\n",
    "    pl_list_numbers = pl_numbers(path)\n",
    "    length = len(pl_list_numbers) \n",
    "    \n",
    "    for i in range(length-1):\n",
    "       diff = pl_list_numbers[i+1] - pl_list_numbers[i] # obtaining difference between the consecutive numbers in Profit/Losses\n",
    "       diff_list.append(diff) # list created with consecutive differences as elements\n",
    "    return diff_list   \n",
    "\n",
    "\n",
    "# obtaining the average of differences with list of differences created above.   \n",
    "def diff_average(path):\n",
    "    diff_list = differences(path)\n",
    "    average = sum(diff_list)/len(diff_list)\n",
    "    print(f\"Average Change: ${average: .2f}\")\n",
    "\n"
   ]
  },
  {
   "cell_type": "markdown",
   "id": "09743389-6ad5-4751-9d11-fe9979c9fcf8",
   "metadata": {},
   "source": [
    "## The greatest increase in profits (date and amount) over the entire period."
   ]
  },
  {
   "cell_type": "code",
   "execution_count": 33,
   "id": "44569428-fefe-4e26-a26e-4e9ca84150b8",
   "metadata": {},
   "outputs": [],
   "source": [
    "\n",
    "def greatest_inc(path):\n",
    "    data = read_csv_file(path)\n",
    "\n",
    "    # calling the funciton to obtain the list of differences between the consecutive Profit/Losses.\n",
    "    data_diff = differences(path) \n",
    "    largest = max(data_diff)\n",
    "\n",
    "    # adding 1 to the index of the largest number of data_diff for the index of the month with greatest profit increase.\n",
    "    month_index = data_diff.index(largest) + 1  \n",
    "   \n",
    "    largest_month = data[month_index]['Date'] # corresponding date to month with greatest profit increase.\n",
    "    \n",
    "    print(f'Greatest Increase in Profits: {largest_month} (${largest})')\n",
    "     \n"
   ]
  },
  {
   "cell_type": "markdown",
   "id": "5cef64db-d972-41ed-802b-e883af3994c6",
   "metadata": {},
   "source": [
    "## The greatest decreacse in losses (date and amount) over the entire period."
   ]
  },
  {
   "cell_type": "code",
   "execution_count": 34,
   "id": "edc67924-9883-4fa4-b2b6-5daf55dac412",
   "metadata": {},
   "outputs": [],
   "source": [
    "\n",
    "def greatest_dec(path):\n",
    "    data = read_csv_file(path)\n",
    "    \n",
    "    # calling the funciton to obtain the list of differences between the consecutive Profit/Losses created earlier\n",
    "    data_diff = differences(path)  \n",
    "    least = min(data_diff)\n",
    "\n",
    "    # adding 1 to the index of the lrgest number from the list of dufferences as it will correspond to the index of the month that had the greatest profit difference in the budget_data csv file.\n",
    "    month_index = data_diff.index(least) + 1\n",
    "\n",
    "    least_month = data[month_index]['Date']\n",
    "    print(f'Greatest Decrease in Profits: {least_month} (${least})')\n"
   ]
  },
  {
   "cell_type": "markdown",
   "id": "55a4bf0b-8c94-41a8-b7d2-1e1781386bbc",
   "metadata": {},
   "source": [
    "## Final answer"
   ]
  },
  {
   "cell_type": "code",
   "execution_count": 35,
   "id": "85a70b36-ec41-47fc-8c6d-fafca647b3ab",
   "metadata": {},
   "outputs": [
    {
     "name": "stdout",
     "output_type": "stream",
     "text": [
      "Financial Analysis \n",
      "--------------------------------------------------\n",
      "Total Months: 86\n",
      "Total: 38382578\n",
      "Average Change: $-2315.12\n",
      "Greatest Increase in Profits: Feb-2012 ($1926159)\n",
      "Greatest Decrease in Profits: Sep-2013 ($-2196167)\n"
     ]
    }
   ],
   "source": [
    "\n",
    "print(\"Financial Analysis \\n\" + \"-\"*50)\n",
    "months(path_budget_data)\n",
    "total_pl(path_budget_data)\n",
    "diff_average(path_budget_data)\n",
    "greatest_inc(path_budget_data)\n",
    "greatest_dec(path_budget_data)\n"
   ]
  }
 ],
 "metadata": {
  "kernelspec": {
   "display_name": "Python 3 (ipykernel)",
   "language": "python",
   "name": "python3"
  },
  "language_info": {
   "codemirror_mode": {
    "name": "ipython",
    "version": 3
   },
   "file_extension": ".py",
   "mimetype": "text/x-python",
   "name": "python",
   "nbconvert_exporter": "python",
   "pygments_lexer": "ipython3",
   "version": "3.10.11"
  }
 },
 "nbformat": 4,
 "nbformat_minor": 5
}
